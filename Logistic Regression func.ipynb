{
 "cells": [
  {
   "cell_type": "code",
   "execution_count": 1,
   "metadata": {},
   "outputs": [],
   "source": [
    "import numpy as np\n",
    "import matplotlib.pyplot as plt\n"
   ]
  },
  {
   "cell_type": "code",
   "execution_count": 2,
   "metadata": {},
   "outputs": [],
   "source": [
    "# Define the sigmoid function\n",
    "def sigmoid(z):\n",
    "    return 1 / (1 + np.exp(-z))\n"
   ]
  },
  {
   "cell_type": "code",
   "execution_count": 3,
   "metadata": {},
   "outputs": [],
   "source": [
    "# Define the cost function\n",
    "def cost_function(theta, X, y):\n",
    "    m = len(y)\n",
    "    h = sigmoid(X @ theta)\n",
    "    J = -(1/m) * (y.T @ np.log(h) + (1-y).T @ np.log(1-h))\n",
    "    grad = (1/m) * (X.T @ (h - y))\n",
    "    return J, grad\n",
    "\n"
   ]
  },
  {
   "cell_type": "code",
   "execution_count": 4,
   "metadata": {},
   "outputs": [],
   "source": [
    "# Define the gradient descent function\n",
    "def gradient_descent(X, y, theta, alpha, num_iters):\n",
    "    J_history = np.zeros((num_iters, 1))\n",
    "    for i in range(num_iters):\n",
    "        J_history[i], grad = cost_function(theta, X, y)\n",
    "        theta -= alpha * grad\n",
    "    return theta, J_history\n"
   ]
  },
  {
   "cell_type": "code",
   "execution_count": 5,
   "metadata": {},
   "outputs": [],
   "source": [
    "# Generate a random binary classification dataset\n",
    "np.random.seed(42)\n",
    "X = np.random.randn(1000, 4)\n",
    "y = np.random.randint(0, 2, size=1000)\n",
    "\n",
    "# Add a column of ones to X for the bias term\n",
    "X = np.hstack((np.ones((X.shape[0], 1)), X))\n",
    "\n",
    "# Split the dataset into training and testing sets\n",
    "X_train, X_test = X[:700], X[700:]\n",
    "y_train, y_test = y[:700], y[700:]"
   ]
  },
  {
   "cell_type": "code",
   "execution_count": 6,
   "metadata": {},
   "outputs": [
    {
     "name": "stdout",
     "output_type": "stream",
     "text": [
      "Accuracy: 0.4995777777777778\n"
     ]
    },
    {
     "data": {
      "image/png": "[encoded data removed]",
      "text/plain": [
       "<Figure size 432x288 with 1 Axes>"
      ]
     },
     "metadata": {
      "needs_background": "light"
     },
     "output_type": "display_data"
    }
   ],
   "source": [
    "# Initialize theta and set hyperparameters\n",
    "theta = np.zeros((X.shape[1], 1))\n",
    "alpha = 0.01\n",
    "num_iters = 1000\n",
    "\n",
    "# Perform gradient descent to find optimal theta\n",
    "theta, J_history = gradient_descent(X_train, y_train.reshape(-1, 1), theta, alpha, num_iters)\n",
    "\n",
    "# Evaluate the model on the testing data\n",
    "h = sigmoid(X_test @ theta)\n",
    "y_pred = (h >= 0.5).astype(int)\n",
    "accuracy = np.mean(y_pred == y_test)\n",
    "print(\"Accuracy:\", accuracy)\n",
    "\n",
    "# Plot the cost function over time\n",
    "plt.plot(J_history)\n",
    "plt.xlabel(\"Iterations\")\n",
    "plt.ylabel(\"Cost\")\n",
    "plt.show()"
   ]
  },
  {
   "cell_type": "code",
   "execution_count": null,
   "metadata": {},
   "outputs": [],
   "source": []
  }
 ],
 "metadata": {
  "kernelspec": {
   "display_name": "Python 3",
   "language": "python",
   "name": "python3"
  },
  "language_info": {
   "codemirror_mode": {
    "name": "ipython",
    "version": 3
   },
   "file_extension": ".py",
   "mimetype": "text/x-python",
   "name": "python",
   "nbconvert_exporter": "python",
   "pygments_lexer": "ipython3",
   "version": "3.10.5"
  },
  "orig_nbformat": 4,
  "vscode": {
   "interpreter": {
    "hash": "26de051ba29f2982a8de78e945f0abaf191376122a1563185a90213a26c5da77"
   }
  }
 },
 "nbformat": 4,
 "nbformat_minor": 2
}
